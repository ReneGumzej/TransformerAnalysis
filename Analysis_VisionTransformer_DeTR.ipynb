{
  "nbformat": 4,
  "nbformat_minor": 0,
  "metadata": {
    "colab": {
      "provenance": []
    },
    "kernelspec": {
      "name": "python3",
      "display_name": "Python 3"
    },
    "language_info": {
      "name": "python"
    }
  },
  "cells": [
    {
      "cell_type": "code",
      "source": [
        "from google.colab import drive\n",
        "drive.mount('/content/drive')"
      ],
      "metadata": {
        "colab": {
          "base_uri": "https://localhost:8080/"
        },
        "id": "r1I6A4L9BVOH",
        "outputId": "6282a17f-c6a7-4b0b-8ff8-bc9b12c8c14b"
      },
      "execution_count": null,
      "outputs": [
        {
          "output_type": "stream",
          "name": "stdout",
          "text": [
            "Mounted at /content/drive\n"
          ]
        }
      ]
    },
    {
      "cell_type": "code",
      "source": [
        "%cd /content/drive/MyDrive/Bachelorarbeit/Dataset_Vision/eval_dataset_food"
      ],
      "metadata": {
        "id": "qzsZlQANoNcv",
        "colab": {
          "base_uri": "https://localhost:8080/"
        },
        "outputId": "2e2d4c33-932e-4c8a-e205-74ceaba98388"
      },
      "execution_count": null,
      "outputs": [
        {
          "output_type": "stream",
          "name": "stdout",
          "text": [
            "/content/drive/MyDrive/Bachelorarbeit/Dataset_Vision/eval_dataset_food\n"
          ]
        }
      ]
    },
    {
      "cell_type": "code",
      "source": [
        "pip install -U transformers timm torchmetrics"
      ],
      "metadata": {
        "id": "BfaZ4eldgk-H",
        "colab": {
          "base_uri": "https://localhost:8080/"
        },
        "outputId": "cbd92fa5-fe06-4feb-dbb2-9d851b992b1f"
      },
      "execution_count": null,
      "outputs": [
        {
          "output_type": "stream",
          "name": "stdout",
          "text": [
            "Installing collected packages: torchmetrics\n",
            "Successfully installed torchmetrics-0.10.0\n"
          ]
        }
      ]
    },
    {
      "cell_type": "markdown",
      "source": [
        "# DETR"
      ],
      "metadata": {
        "id": "8zmaDJuQBnHh"
      }
    },
    {
      "cell_type": "code",
      "execution_count": null,
      "metadata": {
        "id": "ViQiHZ_uxIXs"
      },
      "outputs": [],
      "source": [
        "from transformers import DetrFeatureExtractor, DetrForObjectDetection\n",
        "import torch\n",
        "from PIL import Image\n",
        "\n",
        "\n"
      ]
    },
    {
      "cell_type": "code",
      "source": [
        "feature_extractor = DetrFeatureExtractor.from_pretrained(\"facebook/detr-resnet-101\")\n",
        "model = DetrForObjectDetection.from_pretrained(\"facebook/detr-resnet-101\")"
      ],
      "metadata": {
        "id": "-7AK4Y9t9JfR"
      },
      "execution_count": null,
      "outputs": []
    },
    {
      "cell_type": "code",
      "source": [
        "img_path = \"/content/drive/MyDrive/Bachelorarbeit/Dataset_Vision/eval_dataset_food/5.jpg\"\n",
        "image = Image.open(img_path)\n",
        "\n",
        "inputs = feature_extractor(images=image, return_tensors=\"pt\")\n",
        "outputs = model(**inputs)\n",
        "\n",
        "target_sizes = torch.tensor([image.size[::-1]])\n",
        "results = feature_extractor.post_process(outputs, target_sizes=target_sizes)[0]\n",
        "\n",
        "for score, label, box in zip(results[\"scores\"], results[\"labels\"], results[\"boxes\"]):\n",
        "    box = [round(i, 2) for i in box.tolist()]\n",
        "    if score > 0.9:\n",
        "        print(\n",
        "            f\"Detected {model.config.id2label[label.item()]} with confidence \"\n",
        "            f\"{round(score.item(), 3)} at location {box}\"\n",
        "        )"
      ],
      "metadata": {
        "colab": {
          "base_uri": "https://localhost:8080/"
        },
        "id": "N7kb88Ge9REK",
        "outputId": "c885f29c-2fcb-4753-be54-423f0789f26f"
      },
      "execution_count": null,
      "outputs": [
        {
          "output_type": "stream",
          "name": "stdout",
          "text": [
            "Detected dining table with confidence 0.955 at location [-0.08, -0.09, 199.92, 199.91]\n",
            "Detected cup with confidence 0.999 at location [-0.05, 7.68, 68.54, 86.49]\n",
            "Detected fork with confidence 0.943 at location [178.94, 61.61, 200.0, 114.71]\n"
          ]
        }
      ]
    },
    {
      "cell_type": "markdown",
      "source": [
        "# Evaluation"
      ],
      "metadata": {
        "id": "DOep9aC4fKbV"
      }
    },
    {
      "cell_type": "code",
      "source": [
        "import pandas as pd\n",
        "import numpy as np\n",
        "from pprint import pprint\n",
        "\"\"\"\n",
        "ds_collection = {}\n",
        "\n",
        "for i in range(5):\n",
        "  ds_collection.update({f\"ds{i+1}\": pd.read_csv(f\"/content/drive/MyDrive/Bachelorarbeit/Dataset_Vision/eval_dataset_food/{i+1}.csv\")})\"\"\"\n",
        "\n",
        "ds1 = pd.read_csv(\"/content/drive/MyDrive/Bachelorarbeit/Dataset_Vision/eval_dataset_food/5.csv\")"
      ],
      "metadata": {
        "id": "AImjjZJeqMp-"
      },
      "execution_count": null,
      "outputs": []
    },
    {
      "cell_type": "code",
      "source": [
        "\"\"\"for obj in ds_collection.keys():\n",
        "  for i in range(len(ds_collection[obj])):\n",
        "    bbox = torch.tensor([[ds_collection[obj][\"X_min\"][i],ds_collection[obj][\"Y_min\"][i],ds_collection[obj][\"Width\"][i]+ds_collection[obj][\"X_min\"][i],ds_collection[obj][\"Height\"][i]+ds_collection[obj][\"Y_min\"][i]]], dtype=torch.float)\n",
        "    cls = ds_collection[obj][\"Object\"][i]\n",
        "    target_dict.update({cls:bbox})\n",
        "\n",
        "pprint(target_dict)\"\"\"\n",
        "\n",
        "target_dict = {}\n",
        "for i in range(len(ds1)):\n",
        "    bbox = torch.tensor([[ds1[\"X_min\"][i],ds1[\"Y_min\"][i],ds1[\"Width\"][i]+ds1[\"X_min\"][i],ds1[\"Height\"][i]+ds1[\"Y_min\"][i]]], dtype=torch.float)\n",
        "    cls = ds1[\"Object\"][i]\n",
        "    target_dict.update({cls:bbox})\n",
        "\n",
        "pred_dict = {}\n",
        "\n",
        "for score, label, box in zip(results[\"scores\"], results[\"labels\"], results[\"boxes\"]):\n",
        "    box = torch.tensor([[round(i, 2) for i in box.tolist()]])\n",
        "    \n",
        "    if score > 0.9:\n",
        "     pred_dict.update({model.config.id2label[label.item()]:box})\n",
        "\n",
        "\n",
        "\n",
        "\n",
        "      "
      ],
      "metadata": {
        "id": "7sNWsYLKlx1C"
      },
      "execution_count": null,
      "outputs": []
    },
    {
      "cell_type": "markdown",
      "source": [
        "## IoU (Intersection over Union)"
      ],
      "metadata": {
        "id": "L82pNLLzZGSS"
      }
    },
    {
      "cell_type": "code",
      "source": [
        "# Object Detection Metrics\n",
        "# IoU, AP (average precision) mAP (mean average precision)\n",
        "\n",
        "import torchvision.ops.boxes as bops\n",
        "\n",
        "iou_values = []\n",
        "\n",
        "for obj in target_dict.keys():\n",
        "  traget = target_dict[obj]\n",
        "  prediction = torch.round(pred_dict[obj])\n",
        "  iou = bops.box_iou(traget, prediction)\n",
        "  iou_values.append(iou.item())\n",
        "print(np.mean(np.array(iou_values)))"
      ],
      "metadata": {
        "id": "0oZZHuzffN-K",
        "colab": {
          "base_uri": "https://localhost:8080/"
        },
        "outputId": "6d3ae3b4-d39f-447c-c87a-93e335a62a9b"
      },
      "execution_count": null,
      "outputs": [
        {
          "output_type": "stream",
          "name": "stdout",
          "text": [
            "0.9295800924301147\n"
          ]
        }
      ]
    },
    {
      "cell_type": "code",
      "source": [],
      "metadata": {
        "id": "KXW1T55re32m"
      },
      "execution_count": null,
      "outputs": []
    }
  ]
}